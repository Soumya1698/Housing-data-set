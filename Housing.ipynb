import matplotlib

import matplotlib.pyplot as mtp
import numpy as np
from sklearn import datasets, linear_model
import os
import pandas as pd


os.chdir("c:\Pandas")
df=pd.read_csv("housing1.csv")

Y=df['price']
X=df['lotsize']

Y=Y.reshape(len(Y),1)
X=X.reshape(len(X),1)

X_train = X[:-250]
X_test = X[-250:]

Y_train=Y[:-250]
Y_test=Y[-250:]

mtp.scatter(X_test,Y_test, color = 'Black')
mtp.title('Test data')
mtp.xlabel('Size')
mtp.ylabel('Price')
mtp.xticks(())
mtp.yticks(())

regr= linear_model.LinearRegression()

regr.fit(X_train, Y_train)

mtp.plot(X_test, regr.predict(X_test), color='red',linewidth=3) 
mtp.show()




